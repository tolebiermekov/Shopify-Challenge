{
 "cells": [
  {
   "cell_type": "markdown",
   "id": "configured-plenty",
   "metadata": {},
   "source": [
    "# Fall 2021 Data Science Intern Challenge "
   ]
  },
  {
   "cell_type": "markdown",
   "id": "fatty-assembly",
   "metadata": {},
   "source": [
    "### Content\n",
    "\n",
    " 1. Question 1 \n",
    " 2. Question 2 "
   ]
  },
  {
   "cell_type": "markdown",
   "id": "miniature-insulin",
   "metadata": {},
   "source": [
    "## 1. Question 1 \n",
    "\n",
    "Given some sample data, write a program to answer the following: [click here to access the required data set](https://docs.google.com/spreadsheets/d/16i38oonuX1y1g7C_UAmiK9GkY7cS-64DfiDMNiR41LM/edit#gid=0)\n",
    "\n",
    "On Shopify, we have exactly 100 sneaker shops, and each of these shops sells only one model of shoe. We want to do some analysis of the average order value (AOV). When we look at orders data over a 30 day window, we naively calculate an AOV of $3145.13. Given that we know these shops are selling sneakers, a relatively affordable item, something seems wrong with our analysis."
   ]
  },
  {
   "cell_type": "markdown",
   "id": "alternative-midnight",
   "metadata": {},
   "source": [
    "### a) Think about what could be going wrong with our calculation. Think about a better way to evaluate this data. "
   ]
  },
  {
   "cell_type": "code",
   "execution_count": 1,
   "id": "falling-reference",
   "metadata": {},
   "outputs": [],
   "source": [
    "import pandas as pd"
   ]
  },
  {
   "cell_type": "code",
   "execution_count": 29,
   "id": "collectible-genius",
   "metadata": {
    "scrolled": true
   },
   "outputs": [
    {
     "data": {
      "text/html": [
       "<div>\n",
       "<style scoped>\n",
       "    .dataframe tbody tr th:only-of-type {\n",
       "        vertical-align: middle;\n",
       "    }\n",
       "\n",
       "    .dataframe tbody tr th {\n",
       "        vertical-align: top;\n",
       "    }\n",
       "\n",
       "    .dataframe thead th {\n",
       "        text-align: right;\n",
       "    }\n",
       "</style>\n",
       "<table border=\"1\" class=\"dataframe\">\n",
       "  <thead>\n",
       "    <tr style=\"text-align: right;\">\n",
       "      <th></th>\n",
       "      <th>order_id</th>\n",
       "      <th>shop_id</th>\n",
       "      <th>user_id</th>\n",
       "      <th>order_amount</th>\n",
       "      <th>total_items</th>\n",
       "      <th>payment_method</th>\n",
       "      <th>created_at</th>\n",
       "    </tr>\n",
       "  </thead>\n",
       "  <tbody>\n",
       "    <tr>\n",
       "      <th>0</th>\n",
       "      <td>1</td>\n",
       "      <td>53</td>\n",
       "      <td>746</td>\n",
       "      <td>224</td>\n",
       "      <td>2</td>\n",
       "      <td>cash</td>\n",
       "      <td>2017-03-13 12:36:56.190022</td>\n",
       "    </tr>\n",
       "    <tr>\n",
       "      <th>1</th>\n",
       "      <td>2</td>\n",
       "      <td>92</td>\n",
       "      <td>925</td>\n",
       "      <td>90</td>\n",
       "      <td>1</td>\n",
       "      <td>cash</td>\n",
       "      <td>2017-03-03 17:38:51.999116</td>\n",
       "    </tr>\n",
       "    <tr>\n",
       "      <th>2</th>\n",
       "      <td>3</td>\n",
       "      <td>44</td>\n",
       "      <td>861</td>\n",
       "      <td>144</td>\n",
       "      <td>1</td>\n",
       "      <td>cash</td>\n",
       "      <td>2017-03-14 04:23:55.594730</td>\n",
       "    </tr>\n",
       "    <tr>\n",
       "      <th>3</th>\n",
       "      <td>4</td>\n",
       "      <td>18</td>\n",
       "      <td>935</td>\n",
       "      <td>156</td>\n",
       "      <td>1</td>\n",
       "      <td>credit_card</td>\n",
       "      <td>2017-03-26 12:43:36.648760</td>\n",
       "    </tr>\n",
       "    <tr>\n",
       "      <th>4</th>\n",
       "      <td>5</td>\n",
       "      <td>18</td>\n",
       "      <td>883</td>\n",
       "      <td>156</td>\n",
       "      <td>1</td>\n",
       "      <td>credit_card</td>\n",
       "      <td>2017-03-01 04:35:10.772536</td>\n",
       "    </tr>\n",
       "  </tbody>\n",
       "</table>\n",
       "</div>"
      ],
      "text/plain": [
       "   order_id  shop_id  user_id  order_amount  total_items payment_method  \\\n",
       "0         1       53      746           224            2           cash   \n",
       "1         2       92      925            90            1           cash   \n",
       "2         3       44      861           144            1           cash   \n",
       "3         4       18      935           156            1    credit_card   \n",
       "4         5       18      883           156            1    credit_card   \n",
       "\n",
       "                  created_at  \n",
       "0 2017-03-13 12:36:56.190022  \n",
       "1 2017-03-03 17:38:51.999116  \n",
       "2 2017-03-14 04:23:55.594730  \n",
       "3 2017-03-26 12:43:36.648760  \n",
       "4 2017-03-01 04:35:10.772536  "
      ]
     },
     "execution_count": 29,
     "metadata": {},
     "output_type": "execute_result"
    }
   ],
   "source": [
    "df = pd.read_excel('2019 Winter Data Science Intern Challenge Data Set.xlsx')\n",
    "\n",
    "df.head()"
   ]
  },
  {
   "cell_type": "markdown",
   "id": "spanish-animal",
   "metadata": {},
   "source": [
    "By using simple calculation I found that AOV of 3145.13 came from the mean value of the order_amount column in the dataset."
   ]
  },
  {
   "cell_type": "code",
   "execution_count": 23,
   "id": "abandoned-promise",
   "metadata": {},
   "outputs": [
    {
     "data": {
      "text/plain": [
       "3145.13"
      ]
     },
     "execution_count": 23,
     "metadata": {},
     "output_type": "execute_result"
    }
   ],
   "source": [
    "round((df['order_amount'].mean()), 2)"
   ]
  },
  {
   "cell_type": "code",
   "execution_count": 33,
   "id": "fatty-appreciation",
   "metadata": {},
   "outputs": [
    {
     "data": {
      "text/plain": [
       "count      5000.000000\n",
       "mean       3145.128000\n",
       "std       41282.539349\n",
       "min          90.000000\n",
       "25%         163.000000\n",
       "50%         284.000000\n",
       "75%         390.000000\n",
       "max      704000.000000\n",
       "Name: order_amount, dtype: float64"
      ]
     },
     "execution_count": 33,
     "metadata": {},
     "output_type": "execute_result"
    }
   ],
   "source": [
    "df.order_amount.describe()"
   ]
  },
  {
   "cell_type": "markdown",
   "id": "different-roberts",
   "metadata": {},
   "source": [
    "So, by using describe() method I mentioned that first quartile, median and third quartile values are much lower than maximum value. Therefore, I can notice that this column has outliers. Below to prove my assumption I ploted boxplot of the order_amount column. As you can see from the above boxplot, this column has outliers."
   ]
  },
  {
   "cell_type": "code",
   "execution_count": 35,
   "id": "combined-quebec",
   "metadata": {},
   "outputs": [
    {
     "data": {
      "image/png": "[encoded data removed]",
      "text/plain": [
       "<Figure size 432x288 with 1 Axes>"
      ]
     },
     "metadata": {
      "needs_background": "light"
     },
     "output_type": "display_data"
    }
   ],
   "source": [
    "df.boxplot('order_amount');"
   ]
  },
  {
   "cell_type": "markdown",
   "id": "disabled-dragon",
   "metadata": {},
   "source": [
    "To remove outliers I used IQR rule. "
   ]
  },
  {
   "cell_type": "code",
   "execution_count": 38,
   "id": "accurate-chuck",
   "metadata": {},
   "outputs": [],
   "source": [
    "Q1 = df['order_amount'].quantile(0.25)\n",
    "Q3 = df['order_amount'].quantile(0.75)\n",
    "IQR = Q3 - Q1\n",
    "\n",
    "df = df[~((df['order_amount'] < (Q1 - 1.5 * IQR)) |(df['order_amount'] > (Q3 + 1.5 * IQR)))]"
   ]
  },
  {
   "cell_type": "markdown",
   "id": "understood-guyana",
   "metadata": {},
   "source": [
    "It would be preferable to use a robust evaluation metric since the outliers occurs."
   ]
  },
  {
   "cell_type": "markdown",
   "id": "expensive-hormone",
   "metadata": {},
   "source": [
    "### b) What metric would you report for this dataset?"
   ]
  },
  {
   "cell_type": "code",
   "execution_count": 41,
   "id": "stainless-block",
   "metadata": {},
   "outputs": [
    {
     "data": {
      "image/png": "[encoded data removed]",
      "text/plain": [
       "<Figure size 432x288 with 1 Axes>"
      ]
     },
     "metadata": {
      "needs_background": "light"
     },
     "output_type": "display_data"
    }
   ],
   "source": [
    "df.boxplot('order_amount');"
   ]
  },
  {
   "cell_type": "markdown",
   "id": "incoming-light",
   "metadata": {},
   "source": [
    "#### Answer: In order to prevent evaluation metric from the effects of outliers for this dataset I would report the median value."
   ]
  },
  {
   "cell_type": "markdown",
   "id": "alpine-correction",
   "metadata": {},
   "source": [
    "### c) What is its value?"
   ]
  },
  {
   "cell_type": "markdown",
   "id": "dangerous-romania",
   "metadata": {},
   "source": [
    "#### Answer: From the above, you can see the real AOV value is 280"
   ]
  },
  {
   "cell_type": "code",
   "execution_count": 42,
   "id": "thrown-weekly",
   "metadata": {},
   "outputs": [
    {
     "data": {
      "text/plain": [
       "280.0"
      ]
     },
     "execution_count": 42,
     "metadata": {},
     "output_type": "execute_result"
    }
   ],
   "source": [
    "round((df['order_amount'].median()), 2)"
   ]
  },
  {
   "cell_type": "markdown",
   "id": "honest-helping",
   "metadata": {},
   "source": [
    "## 2. Question 2\n",
    "\n",
    "For this question you’ll need to use SQL. [Follow this link](https://www.w3schools.com/SQL/TRYSQL.ASP?FILENAME=TRYSQL_SELECT_ALL) to access the data set required for the challenge. Please use queries to answer the following questions. Paste your queries along with your final numerical answers below."
   ]
  },
  {
   "cell_type": "markdown",
   "id": "effective-jungle",
   "metadata": {},
   "source": [
    "### a) How many orders were shipped by Speedy Express in total?\n",
    "\n",
    "#### Answer: 54 \n",
    "\n",
    "SELECT COUNT(o.OrderID)                                                                                                         \n",
    "FROM Orders o                                                                                                                   \n",
    "JOIN Shippers s ON s.ShipperID = o.ShipperID                                                                                   \n",
    "WHERE s.ShipperName = 'Speedy Express';"
   ]
  },
  {
   "cell_type": "markdown",
   "id": "faced-voice",
   "metadata": {},
   "source": [
    "### b) What is the last name of the employee with the most orders?\n",
    "\n",
    "#### Answer: Peacock\n",
    "\n",
    "SELECT e.LastName FROM ORDERS o                                                                                                 \n",
    "JOIN Employees e ON e.EmployeeID = o.EmployeeID                                                                                 \n",
    "GROUP BY e.LastName                                                                                                             \n",
    "ORDER BY COUNT(o.OrderID) DESC                                                                                                 \n",
    "LIMIT 1\n",
    "\n",
    "\n"
   ]
  },
  {
   "cell_type": "markdown",
   "id": "three-broadway",
   "metadata": {},
   "source": [
    "### c) What product was ordered the most by customers in Germany?\n",
    "\n",
    "#### Answer: Boston Crab Meat\n",
    "\n",
    "SELECT p.ProductName FROM ORDERDETAILS od                                                                                       \n",
    "JOIN Products p ON p.ProductID = od.ProductID                                                                                   \n",
    "JOIN Orders o ON o.OrderID = od.OrderID                                                                                         \n",
    "JOIN Customers c ON c.CustomerID = o.CustomerID                                                                                 \n",
    "WHERE c.Country = 'Germany'                                                                                                     \n",
    "GROUP BY ProductName                                                                                                           \n",
    "ORDER BY SUM(Quantity) DESC                                                                                                     \n",
    "LIMIT 1                                                                                                                         "
   ]
  }
 ],
 "metadata": {
  "kernelspec": {
   "display_name": "Python 3",
   "language": "python",
   "name": "python3"
  },
  "language_info": {
   "codemirror_mode": {
    "name": "ipython",
    "version": 3
   },
   "file_extension": ".py",
   "mimetype": "text/x-python",
   "name": "python",
   "nbconvert_exporter": "python",
   "pygments_lexer": "ipython3",
   "version": "3.7.9"
  }
 },
 "nbformat": 4,
 "nbformat_minor": 5
}
